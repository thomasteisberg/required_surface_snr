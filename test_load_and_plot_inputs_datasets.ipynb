{
 "cells": [
  {
   "cell_type": "code",
   "execution_count": null,
   "metadata": {},
   "outputs": [],
   "source": [
    "%load_ext autoreload\n",
    "%autoreload 2"
   ]
  },
  {
   "cell_type": "code",
   "execution_count": 12,
   "metadata": {},
   "outputs": [],
   "source": [
    "import dask\n",
    "import xarray as xr\n",
    "import pandas as pd\n",
    "import matplotlib.pyplot as plt\n",
    "import numpy as np\n",
    "import scipy.spatial\n",
    "import cartopy\n",
    "import cartopy.crs as ccrs"
   ]
  },
  {
   "cell_type": "code",
   "execution_count": 13,
   "metadata": {},
   "outputs": [],
   "source": [
    "# Map projections for plotting\n",
    "crs_3031 = cartopy.crs.Stereographic(central_latitude=-90, true_scale_latitude=-71) # All Antarctic data will be projected (if needed) to this\n",
    "crs_3413 = ccrs.Stereographic(central_latitude=90, central_longitude=-45, true_scale_latitude=70) # All Greenland data will be projected (if needed) to this\n",
    "crs_lonlat = cartopy.crs.PlateCarree()"
   ]
  },
  {
   "cell_type": "code",
   "execution_count": 14,
   "metadata": {},
   "outputs": [],
   "source": [
    "#ds = xr.open_dataset('data_preprocessing/snr_data_utig_ais_with_inputs.nc')\n",
    "#ds = xr.open_dataset('data_preprocessing/snr_data_cresis_ais_with_inputs.nc')\n",
    "ds = xr.open_dataset('data_preprocessing/snr_data_cresis_gis_with_inputs.nc')"
   ]
  },
  {
   "cell_type": "code",
   "execution_count": 15,
   "metadata": {},
   "outputs": [],
   "source": [
    "ice_sheet = 'greenland' # 'greenland' or 'antarctica'\n",
    "\n",
    "if ice_sheet == 'antarctica':\n",
    "    projection = crs_3031\n",
    "elif ice_sheet == 'greenland':\n",
    "    projection = crs_3413\n",
    "else:\n",
    "    raise ValueError('ice_sheet must be either \"greenland\" or \"antarctica\"')"
   ]
  },
  {
   "cell_type": "code",
   "execution_count": null,
   "metadata": {},
   "outputs": [],
   "source": [
    "ds"
   ]
  },
  {
   "cell_type": "code",
   "execution_count": null,
   "metadata": {},
   "outputs": [],
   "source": [
    "decimate_by = 10\n",
    "\n",
    "for variable_to_plot in ds.data_vars:\n",
    "    if \"Unnamed\" in variable_to_plot:\n",
    "        continue\n",
    "    if (variable_to_plot == 'x') or (variable_to_plot == 'y'):\n",
    "        continue\n",
    "    if \"source\" in variable_to_plot:\n",
    "        continue\n",
    "\n",
    "    try:\n",
    "        fig, ax = plt.subplots(figsize=(6,4), subplot_kw=dict(projection=projection))\n",
    "\n",
    "        sc = ax.scatter(x = ds.x[::decimate_by], y=ds.y[::decimate_by], c=ds[variable_to_plot][::decimate_by], s=0.01)\n",
    "        fig.colorbar(sc, ax=ax, label=variable_to_plot)\n",
    "\n",
    "        ax.coastlines(resolution='10m', color='black', linewidth=0.5)\n",
    "    \n",
    "    except Exception as e:\n",
    "        print(f\"Count not plot variable {variable_to_plot}\")\n",
    "        continue"
   ]
  },
  {
   "cell_type": "code",
   "execution_count": null,
   "metadata": {},
   "outputs": [],
   "source": []
  }
 ],
 "metadata": {
  "kernelspec": {
   "display_name": "rssnr",
   "language": "python",
   "name": "python3"
  },
  "language_info": {
   "codemirror_mode": {
    "name": "ipython",
    "version": 3
   },
   "file_extension": ".py",
   "mimetype": "text/x-python",
   "name": "python",
   "nbconvert_exporter": "python",
   "pygments_lexer": "ipython3",
   "version": "3.10.16"
  }
 },
 "nbformat": 4,
 "nbformat_minor": 2
}
