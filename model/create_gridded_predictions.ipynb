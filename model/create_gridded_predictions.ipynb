{
 "cells": [
  {
   "cell_type": "code",
   "execution_count": 53,
   "metadata": {
    "collapsed": true,
    "jupyter": {
     "outputs_hidden": true
    }
   },
   "outputs": [],
   "source": [
    "#pip install --upgrade numpy"
   ]
  },
  {
   "cell_type": "code",
   "execution_count": null,
   "metadata": {},
   "outputs": [],
   "source": [
    "%load_ext autoreload\n",
    "%autoreload 2\n",
    "\n",
    "import dask\n",
    "import xarray as xr\n",
    "import pandas as pd\n",
    "import matplotlib.pyplot as plt\n",
    "import numpy as np\n",
    "import scipy.spatial\n",
    "import cartopy\n",
    "import cartopy.crs as ccrs\n",
    "import pymc as pm\n",
    "import arviz as az\n",
    "import pickle\n",
    "import cloudpickle\n",
    "\n",
    "from normalization_utils import combo_scaler, inverse_combo_scaler"
   ]
  },
  {
   "cell_type": "markdown",
   "metadata": {},
   "source": [
    "### Bring in the Grounded Model"
   ]
  },
  {
   "cell_type": "code",
   "execution_count": 55,
   "metadata": {},
   "outputs": [],
   "source": [
    "# model_pickle_path, gridded_inputs_path, ice_sheet = (\n",
    "#     \"outputs/cresis_gis_grounded_model.pickle\",\n",
    "#     \"../data_preprocessing/input_data_gis.nc\",\n",
    "#     'greenland'\n",
    "# )\n",
    "\n",
    "# model_pickle_path, gridded_inputs_path, ice_sheet = (\n",
    "#     \"outputs/cresis_ais_grounded_model.pickle\",\n",
    "#     \"../data_preprocessing/input_data_ais.nc\",\n",
    "#     'antarctica'\n",
    "# )\n",
    "\n",
    "model_pickle_path, gridded_inputs_path, ice_sheet = (\n",
    "    \"outputs/cresis_ais_floating_model.pickle\",\n",
    "    \"../data_preprocessing/input_data_ais.nc\",\n",
    "    'antarctica'\n",
    ")"
   ]
  },
  {
   "cell_type": "code",
   "execution_count": 56,
   "metadata": {},
   "outputs": [],
   "source": [
    "pred_inputs = xr.open_dataset(gridded_inputs_path)\n",
    "\n",
    "with open(model_pickle_path, \"rb\") as f:\n",
    "    training_results = cloudpickle.load(f)"
   ]
  },
  {
   "cell_type": "code",
   "execution_count": null,
   "metadata": {},
   "outputs": [],
   "source": [
    "pred_inputs"
   ]
  },
  {
   "cell_type": "code",
   "execution_count": null,
   "metadata": {},
   "outputs": [],
   "source": [
    "training_results.keys()"
   ]
  },
  {
   "cell_type": "code",
   "execution_count": 59,
   "metadata": {},
   "outputs": [],
   "source": [
    "# Normalize inputs\n",
    "\n",
    "norm_params = training_results['normalization_parameters']\n",
    "\n",
    "for var in norm_params:\n",
    "    if var in pred_inputs.data_vars:\n",
    "        pred_inputs[var + \"_norm\"] = combo_scaler(pred_inputs[var], norm_params[var])"
   ]
  },
  {
   "cell_type": "code",
   "execution_count": 60,
   "metadata": {},
   "outputs": [],
   "source": [
    "posterior = az.extract(training_results['trace'])\n",
    "posterior_quantiles = posterior.quantile([0.025, 0.5, 0.975])\n",
    "\n",
    "def predict(quantile):\n",
    "    res_norm = (\n",
    "        posterior_quantiles['intercept'].sel(quantile=quantile).values +\n",
    "        posterior_quantiles['beta_thickness'].sel(quantile=quantile).values * pred_inputs['thickness_norm'] +\n",
    "        posterior_quantiles['beta_surface_temp'].sel(quantile=quantile).values * pred_inputs['t2m_norm'] +\n",
    "        posterior_quantiles['beta_surface_elev'].sel(quantile=quantile).values * pred_inputs['surface_norm']\n",
    "    )\n",
    "    return inverse_combo_scaler(res_norm, norm_params['snr'])\n",
    "\n",
    "median_rssnr = predict(0.5)\n",
    "ci_low_rssnr = predict(0.025)\n",
    "ci_high_rssnr = predict(0.975)"
   ]
  },
  {
   "cell_type": "code",
   "execution_count": 61,
   "metadata": {},
   "outputs": [],
   "source": [
    "# Mask results to relevant locations\n",
    "\n",
    "mask = (pred_inputs['mask'].isin(training_results['bm_mask_whitelist'])) & (pred_inputs['thickness'] > 100)\n",
    "\n",
    "# Set median_rssnr to np.nan based on mask\n",
    "median_rssnr_masked = median_rssnr.where(mask)\n",
    "ci_low_rssnr_masked = ci_low_rssnr.where(mask)\n",
    "ci_high_rssnr_masked = ci_high_rssnr.where(mask)\n",
    "\n",
    "# Create a velocity array of the same length\n",
    "velocity_masked = pred_inputs['speed'].where(mask)"
   ]
  },
  {
   "cell_type": "markdown",
   "metadata": {},
   "source": [
    "### Plot results"
   ]
  },
  {
   "cell_type": "code",
   "execution_count": 62,
   "metadata": {},
   "outputs": [],
   "source": [
    "# Map projections for plotting\n",
    "crs_3031 = cartopy.crs.Stereographic(central_latitude=-90, true_scale_latitude=-71) # All Antarctic data will be projected (if needed) to this\n",
    "crs_3413 = ccrs.Stereographic(central_latitude=90, central_longitude=-45, true_scale_latitude=70) # All Greenland data will be projected (if needed) to this\n",
    "crs_lonlat = cartopy.crs.PlateCarree()\n",
    "\n",
    "if ice_sheet == 'antarctica':\n",
    "    projection = crs_3031\n",
    "    crs_name = \"EPSG:3031\"\n",
    "elif ice_sheet == 'greenland':\n",
    "    projection = crs_3413\n",
    "    crs_name = \"EPSG:3413\"\n",
    "else:\n",
    "    raise ValueError('ice_sheet must be either \"greenland\" or \"antarctica\"')"
   ]
  },
  {
   "cell_type": "code",
   "execution_count": null,
   "metadata": {},
   "outputs": [],
   "source": [
    "# Map of median predicted RSSNR\n",
    "fig, ax = plt.subplots(figsize=(6,6), subplot_kw=dict(projection=projection))\n",
    "\n",
    "cmap='turbo'\n",
    "decimation_for_plotting = 10\n",
    "\n",
    "median_rssnr_masked[::decimation_for_plotting, ::decimation_for_plotting].plot.pcolormesh(ax=ax, cmap=cmap)\n",
    "ax.coastlines(resolution='10m', color='black', linewidth=0.5)\n",
    "\n",
    "# Axes\n",
    "ax.set_xlabel(f'{crs_name} X [km]')\n",
    "ax.set_ylabel(f'{crs_name} Y [km]')\n",
    "ax.set_xticks(ax.get_xticks(), crs=projection)\n",
    "ax.set_yticks(ax.get_yticks(), crs=projection)\n",
    "ax.tick_params(axis='x', rotation=90)\n",
    "# Show axis ticks in kilometers\n",
    "ax.xaxis.set_major_formatter(plt.FuncFormatter(lambda x, _: f'{x/1000:.0f}'))\n",
    "ax.yaxis.set_major_formatter(plt.FuncFormatter(lambda x, _: f'{x/1000:.0f}'))"
   ]
  },
  {
   "cell_type": "code",
   "execution_count": null,
   "metadata": {},
   "outputs": [],
   "source": [
    "fig, ax = plt.subplots()\n",
    "median_rssnr_masked.plot.hist(bins=100, range=[-20, 120], ax=ax)\n",
    "#median_rssnr.plot.hist(bins=100, range=[-20, 120], ax=ax)\n",
    "ax.set_xlabel('RSSNR [dB]')\n",
    "ax.set_ylabel('Count')\n",
    "ax.set_title(f'Model: {training_results[\"dataset_name\"]} from {model_pickle_path}\\nInput dataset: {gridded_inputs_path}')\n",
    "fig.show()"
   ]
  },
  {
   "cell_type": "markdown",
   "metadata": {},
   "source": [
    "### Save gridded output"
   ]
  },
  {
   "cell_type": "code",
   "execution_count": 65,
   "metadata": {},
   "outputs": [],
   "source": [
    "output = pred_inputs.copy()\n",
    "\n",
    "output['rssnr_pred_median'] = median_rssnr_masked\n",
    "output['rssnr_pred_ci_low'] = ci_low_rssnr_masked\n",
    "output['rssnr_pred_ci_high'] = ci_high_rssnr_masked\n",
    "\n",
    "output['rssnr_pred_median'].attrs = {\n",
    "    'long_name': 'Median predicted RSSNR',\n",
    "    'units': 'dB',\n",
    "    'description': f'Median predicted RSSNR from {training_results[\"dataset_name\"]} model'\n",
    "}\n",
    "output['rssnr_pred_ci_low'].attrs = {\n",
    "    'long_name': 'Lower 95% CI predicted RSSNR',\n",
    "    'units': 'dB',\n",
    "    'description': f'Lower 95% CI predicted RSSNR from {training_results[\"dataset_name\"]} model'\n",
    "}\n",
    "output['rssnr_pred_ci_high'].attrs = {\n",
    "    'long_name': 'Upper 95% CI predicted RSSNR',\n",
    "    'units': 'dB',\n",
    "    'description': f'Upper 95% CI predicted RSSNR from {training_results[\"dataset_name\"]} model'\n",
    "}\n",
    "output['rssnr_pred_median'].attrs['history'] = f'Created {pd.Timestamp.now().strftime(\"%Y-%m-%d %H:%M:%S\")}'\n",
    "\n",
    "output_path = f'outputs/predicted_rssnr_{ice_sheet}_{training_results[\"dataset_name\"]}.nc'\n",
    "output.to_netcdf(output_path)"
   ]
  },
  {
   "cell_type": "markdown",
   "metadata": {},
   "source": [
    "### Generate CDFs"
   ]
  },
  {
   "cell_type": "code",
   "execution_count": 66,
   "metadata": {},
   "outputs": [],
   "source": [
    "def cdf_variable_maker(median_rssnr, low_rssnr, high_rssnr):\n",
    "    \n",
    "    # Sort the data\n",
    "    sorted_idxs = np.argsort(median_rssnr.values.flatten())\n",
    "    sorted_median = median_rssnr.values.flatten()[sorted_idxs]\n",
    "\n",
    "    # Calculate the CDF values\n",
    "    cdf_values = np.arange(1, len(sorted_median) + 1) / len(sorted_median)\n",
    "\n",
    "    shifted_low_rssnr = low_rssnr-9.5\n",
    "    shifted_high_rssnr = high_rssnr+9.5\n",
    "\n",
    "    return sorted_median, cdf_values, shifted_low_rssnr, shifted_high_rssnr"
   ]
  },
  {
   "cell_type": "code",
   "execution_count": 67,
   "metadata": {},
   "outputs": [],
   "source": [
    "# Create fast and low velocities\n",
    "median_rssnr_fast = median_rssnr_masked.where(velocity_masked>50)\n",
    "ci_low_rssnr_fast = ci_low_rssnr_masked.where(velocity_masked>50)\n",
    "ci_high_rssnr_fast = ci_high_rssnr_masked.where(velocity_masked>50)\n",
    "\n",
    "median_rssnr_slow = median_rssnr_masked.where(velocity_masked<=50)\n",
    "ci_low_rssnr_slow = ci_low_rssnr_masked.where(velocity_masked<=50)\n",
    "ci_high_rssnr_slow = ci_high_rssnr_masked.where(velocity_masked<=50)"
   ]
  },
  {
   "cell_type": "code",
   "execution_count": null,
   "metadata": {},
   "outputs": [],
   "source": [
    "# Create CDF plot of median_rssnr_masked\n",
    "fig, ax = plt.subplots()\n",
    "\n",
    "# Import all the variables for each CDF\n",
    "sorted_median_fast, cdf_values_fast, low_rssnr_fast, high_rssnr_fast = cdf_variable_maker(median_rssnr_fast,\n",
    "                                                                                          ci_low_rssnr_fast,\n",
    "                                                                                          ci_high_rssnr_fast\n",
    "                                                                                         )\n",
    "\n",
    "sorted_median_slow, cdf_values_slow, low_rssnr_slow, high_rssnr_slow = cdf_variable_maker(median_rssnr_slow,\n",
    "                                                                                          ci_low_rssnr_slow,\n",
    "                                                                                          ci_high_rssnr_slow\n",
    "                                                                                         )\n",
    "\n",
    "# Plot the fast CDF\n",
    "ax.plot(sorted_median_fast, cdf_values_fast, color='#db7414')\n",
    "ax.fill_betweenx(cdf_values_fast, low_rssnr_fast, \n",
    "                 high_rssnr_fast, color='#db7414', \n",
    "                 label='Fast Ice',\n",
    "                 alpha=0.25)\n",
    "\n",
    "# Plot the slow CDF\n",
    "ax.plot(sorted_median_slow, cdf_values_slow, color='#13679c')\n",
    "ax.fill_betweenx(cdf_values_slow, low_rssnr_slow, \n",
    "                 high_rssnr_slow, color='#13679c', \n",
    "                 label='Slow Ice',\n",
    "                 alpha=0.25)\n",
    "\n",
    "\n",
    "ax.set_xlabel('RSSNR [dB]')\n",
    "ax.set_ylabel('CDF')\n",
    "ax.set_title(f'Model: {training_results[\"dataset_name\"]} from {model_pickle_path}\\nInput dataset: {gridded_inputs_path}')\n",
    "ax.legend()\n",
    "ax.grid()\n",
    "plt.show()"
   ]
  },
  {
   "cell_type": "code",
   "execution_count": null,
   "metadata": {},
   "outputs": [],
   "source": []
  }
 ],
 "metadata": {
  "kernelspec": {
   "display_name": "Python 3 (ipykernel)",
   "language": "python",
   "name": "python3"
  },
  "language_info": {
   "codemirror_mode": {
    "name": "ipython",
    "version": 3
   },
   "file_extension": ".py",
   "mimetype": "text/x-python",
   "name": "python",
   "nbconvert_exporter": "python",
   "pygments_lexer": "ipython3",
   "version": "3.13.3"
  }
 },
 "nbformat": 4,
 "nbformat_minor": 2
}
