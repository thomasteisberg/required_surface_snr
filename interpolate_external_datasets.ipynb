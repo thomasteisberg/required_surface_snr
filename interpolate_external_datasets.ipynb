{
 "cells": [
  {
   "cell_type": "markdown",
   "metadata": {},
   "source": [
    "## Interpolate input datasets to radar data locations\n",
    "\n",
    "The purpose of this notebook is to load external input datasets and interpolate them onto the locations of the provided radar RSSNR data.\n",
    "\n",
    "This notebook depends on external data sources. There is a script in `external_datasets/download_datasets.sh` that automates the process of downloading the required datasets.\n",
    "\n",
    "This notebook is intended to be run once per dataset (i.e. per combination of radar data source and ice sheet)."
   ]
  },
  {
   "cell_type": "code",
   "execution_count": null,
   "metadata": {},
   "outputs": [],
   "source": [
    "%load_ext autoreload\n",
    "%autoreload 2"
   ]
  },
  {
   "cell_type": "code",
   "execution_count": null,
   "metadata": {},
   "outputs": [],
   "source": [
    "import dask\n",
    "from dask.distributed import Client, LocalCluster\n",
    "\n",
    "client = Client(n_workers=1, threads_per_worker=4, memory_limit='60GB') # Note that `memory_limit` is the limit **per worker**.\n",
    "\n",
    "client # If you click the dashboard link in the output, you can monitor real-time progress and get other cool visualizations."
   ]
  },
  {
   "cell_type": "code",
   "execution_count": 25,
   "metadata": {},
   "outputs": [],
   "source": [
    "import xarray as xr\n",
    "import pandas as pd\n",
    "import matplotlib.pyplot as plt\n",
    "import numpy as np\n",
    "import scipy.spatial\n",
    "import cartopy\n",
    "import cartopy.crs as ccrs\n",
    "\n",
    "from interpolation_utils import interpolate_nearest_from_grid"
   ]
  },
  {
   "cell_type": "code",
   "execution_count": 26,
   "metadata": {},
   "outputs": [],
   "source": [
    "# Map projections for plotting\n",
    "crs_3031 = cartopy.crs.Stereographic(central_latitude=-90, true_scale_latitude=-71) # All Antarctic data will be projected (if needed) to this\n",
    "crs_3413 = ccrs.Stereographic(central_latitude=90, central_longitude=-45, true_scale_latitude=70) # All Greenland data will be projected (if needed) to this\n",
    "crs_lonlat = cartopy.crs.PlateCarree()"
   ]
  },
  {
   "cell_type": "code",
   "execution_count": 27,
   "metadata": {},
   "outputs": [],
   "source": [
    "# Dataset options\n",
    "\n",
    "# CReSIS / Antarctica\n",
    "source_csv_path, decimate_by_n, output_nc_path, dataset = 'data_preprocessing/snr_data_cresis_ais.csv', 5, 'data_preprocessing/snr_data_cresis_ais_with_inputs.nc', 'antarctica'\n",
    "\n",
    "# CReSIS / Greenland\n",
    "#source_csv_path, decimate_by_n, output_nc_path, dataset = 'data_preprocessing/snr_data_cresis_gis.csv', 5, 'data_preprocessing/snr_data_cresis_gis_with_inputs.nc', 'greenland'\n",
    "\n",
    "# UTIG / Antarctica\n",
    "#source_csv_path, decimate_by_n, output_nc_path, dataset = 'external_datasets/utig_rssnr/snr.csv', 10, 'data_preprocessing/snr_data_utig_ais_with_inputs.nc', 'antarctica'"
   ]
  },
  {
   "cell_type": "code",
   "execution_count": null,
   "metadata": {},
   "outputs": [],
   "source": [
    "# Load required surface SNR data\n",
    "\n",
    "df_tmp = pd.read_csv(source_csv_path)[::decimate_by_n]\n",
    "ds_radar = xr.Dataset.from_dataframe(df_tmp)\n",
    "ds_radar = ds_radar.rename({'thickness': 'picked_thickness', 'surface': 'picked_surface', 'bottom': 'picked_bottom'})\n",
    "ds_radar"
   ]
  },
  {
   "cell_type": "code",
   "execution_count": null,
   "metadata": {},
   "outputs": [],
   "source": [
    "median_spacing = np.sqrt(np.median(np.diff(ds_radar.x)**2 + np.diff(ds_radar.y)**2))\n",
    "print(f\"Median along-track radar spacing after decimation by {decimate_by_n}: {median_spacing:.2f} m\")"
   ]
  },
  {
   "cell_type": "code",
   "execution_count": null,
   "metadata": {},
   "outputs": [],
   "source": [
    "# print 10th and 90th percentiles of ds_radar x and y\n",
    "print(\"10th percentile of ds_radar x:\", np.percentile(ds_radar.x, 10))\n",
    "print(\"90th percentile of ds_radar x:\", np.percentile(ds_radar.x, 90))\n",
    "print(\"10th percentile of ds_radar y:\", np.percentile(ds_radar.y, 10))\n",
    "print(\"90th percentile of ds_radar y:\", np.percentile(ds_radar.y, 90))"
   ]
  },
  {
   "cell_type": "code",
   "execution_count": 31,
   "metadata": {},
   "outputs": [],
   "source": [
    "if dataset == 'antarctica':\n",
    "    # Load BedMachine datasets\n",
    "    ds_bm = xr.open_dataset(\"external_datasets/BedMachineAntarctica-v3.nc\")\n",
    "\n",
    "    # Load Rignot surface velocity datasets\n",
    "    ds_vel = xr.open_dataset(\"external_datasets/antarctic_ice_vel_phase_map_v01.nc\")\n",
    "elif dataset == 'greenland':\n",
    "    # Load BedMachine datasets\n",
    "    ds_bm = xr.open_dataset(\"external_datasets/BedMachineGreenland-v5.nc\")\n",
    "\n",
    "    # Load ITS_LIVE surface velocity\n",
    "    ds_vel = xr.open_dataset(\"external_datasets/ITS_LIVE_velocity_120m_RGI05A_0000_v02.nc\")"
   ]
  },
  {
   "cell_type": "code",
   "execution_count": 32,
   "metadata": {},
   "outputs": [],
   "source": [
    "# # Load ERA5 t2m data\n",
    "ds_era5 = xr.open_dataset(\"external_datasets/era5_t2m_ensemble.nc\")\n",
    "\n",
    "t2m_mean = ds_era5.t2m.mean(dim='valid_time').mean(dim='number')\n",
    "t2m_std = ds_era5.t2m.mean(dim='valid_time').std(dim='number')\n",
    "\n",
    "# Combined t2m_mean and t2m_std into a single dataset\n",
    "ds_t2m = xr.Dataset({'t2m_mean': t2m_mean, 't2m_std': t2m_std})"
   ]
  },
  {
   "cell_type": "code",
   "execution_count": 33,
   "metadata": {},
   "outputs": [],
   "source": [
    "if dataset == 'antarctica':\n",
    "    # Calculate magnitude (speed) and error per NSIDC-0754 user guide:\n",
    "    # https://nsidc.org/sites/default/files/nsidc-0754-v001-userguide.pdf\n",
    "    ds_vel['speed'] = np.sqrt(ds_vel['VX']**2 + ds_vel['VY']**2)\n",
    "    ds_vel['speed_err'] = np.sqrt(ds_vel['ERRX']**2 + ds_vel['ERRY']**2)\n",
    "elif dataset == 'greenland':\n",
    "    # ITS_LIVE velocity data already has magnitude and magnitude error calculated, just need to re-name\n",
    "    ds_vel['speed'] = ds_vel['v']\n",
    "    ds_vel['speed_err'] = ds_vel['v_error']"
   ]
  },
  {
   "cell_type": "code",
   "execution_count": 34,
   "metadata": {},
   "outputs": [],
   "source": [
    "# NN interpolate from BedMachine data\n",
    "ds_radar['thickness'], ds_radar['thickness_err'], ds_radar['bm_mask'], ds_radar['surface'] = interpolate_nearest_from_grid(ds_bm, ds_radar,\n",
    "                                                                                                        ['thickness', 'errbed', 'mask', 'surface'])"
   ]
  },
  {
   "cell_type": "code",
   "execution_count": 35,
   "metadata": {},
   "outputs": [],
   "source": [
    "# NN interpolate from surface velocity data\n",
    "\n",
    "ds_radar['speed'], ds_radar['speed_err'] = interpolate_nearest_from_grid(ds_vel, ds_radar, ['speed', 'speed_err'])"
   ]
  },
  {
   "cell_type": "code",
   "execution_count": 36,
   "metadata": {},
   "outputs": [],
   "source": [
    "if dataset == 'antarctica':\n",
    "    target_crs = crs_3031\n",
    "    crs_name = 'EPSG:3031'\n",
    "elif dataset == 'greenland':\n",
    "    target_crs = crs_3413\n",
    "    crs_name = 'EPSG:3413'\n",
    "\n",
    "ds_radar['t2m'], ds_radar['t2m_err'] = interpolate_nearest_from_grid(ds_t2m, ds_radar, ['t2m_mean', 't2m_std'],\n",
    "                                            source_crs=crs_lonlat, target_crs=target_crs, y_name='latitude', x_name='longitude')"
   ]
  },
  {
   "cell_type": "code",
   "execution_count": null,
   "metadata": {},
   "outputs": [],
   "source": [
    "# Sanity check: Plot interpolated thickness points over BedMachine thickness map\n",
    "\n",
    "fig, ax = plt.subplots(figsize=(6,6), subplot_kw=dict(projection=target_crs))\n",
    "\n",
    "vmin = np.nanmin(ds_bm['thickness'])\n",
    "vmax = np.nanmax(ds_bm['thickness'])\n",
    "\n",
    "ds_bm['surface'][::10, ::10].plot.pcolormesh(ax=ax, alpha=0.8, vmin=vmin, vmax=vmax, cmap='turbo')\n",
    "ax.coastlines(resolution='10m', color='white', linewidth=0.5)\n",
    "\n",
    "ax.scatter(x=ds_radar.x, y=ds_radar.y, c=ds_radar.surface, vmin=vmin, vmax=vmax, s=1, cmap='turbo')\n",
    "\n",
    "# Axes and coastlines\n",
    "ax.set_xlabel(f'{crs_name} X [km]')\n",
    "ax.set_ylabel(f'{crs_name} Y [km]')\n",
    "\n",
    "# if dataset == 'greenland':\n",
    "#     ax.set_xlim(-6e5, 6e5)\n",
    "#     ax.set_ylim(-3.5e6, -0.5e6)\n",
    "\n",
    "ax.set_xticks(ax.get_xticks(), crs=target_crs)\n",
    "ax.set_yticks(ax.get_yticks(), crs=target_crs)\n",
    "ax.tick_params(axis='x', rotation=90)\n",
    "# Show axis ticks in kilometers\n",
    "ax.xaxis.set_major_formatter(plt.FuncFormatter(lambda x, _: f'{x/1000:.0f}'))\n",
    "ax.yaxis.set_major_formatter(plt.FuncFormatter(lambda x, _: f'{x/1000:.0f}'))\n"
   ]
  },
  {
   "cell_type": "code",
   "execution_count": null,
   "metadata": {},
   "outputs": [],
   "source": [
    "# Sanity check: Plot interpolated surface velocity points over MEaSUREs surface velocity map\n",
    "fig, ax = plt.subplots(figsize=(6,6), subplot_kw=dict(projection=target_crs))\n",
    "vmin = 0 #np.nanmin(np.log(ds_vel['speed']))\n",
    "vmax = np.nanmax(np.log(ds_vel['speed']))\n",
    "\n",
    "cmap='turbo'\n",
    "\n",
    "np.log(ds_vel['speed'][::10, ::10]).plot.pcolormesh(ax=ax, alpha=0.8, vmin=vmin, vmax=vmax, cmap=cmap)\n",
    "ax.coastlines(resolution='10m', color='white', linewidth=0.5)\n",
    "\n",
    "ax.scatter(x=ds_radar.x, y=ds_radar.y, c=np.log(ds_radar.speed), vmin=vmin, vmax=vmax, s=1, cmap=cmap)\n",
    "\n",
    "# Axes\n",
    "ax.set_xlabel(f'{crs_name} X [km]')\n",
    "ax.set_ylabel(f'{crs_name} Y [km]')\n",
    "ax.set_xticks(ax.get_xticks(), crs=target_crs)\n",
    "ax.set_yticks(ax.get_yticks(), crs=target_crs)\n",
    "ax.tick_params(axis='x', rotation=90)\n",
    "# Show axis ticks in kilometers\n",
    "ax.xaxis.set_major_formatter(plt.FuncFormatter(lambda x, _: f'{x/1000:.0f}'))\n",
    "ax.yaxis.set_major_formatter(plt.FuncFormatter(lambda x, _: f'{x/1000:.0f}'))\n"
   ]
  },
  {
   "cell_type": "code",
   "execution_count": null,
   "metadata": {},
   "outputs": [],
   "source": [
    "ds_radar['t2m'].min(), ds_radar['t2m'].max()"
   ]
  },
  {
   "cell_type": "code",
   "execution_count": null,
   "metadata": {},
   "outputs": [],
   "source": [
    "# Sanity check: Plot interpolated t2m points over ERA5 t2m map\n",
    "\n",
    "fig, ax = plt.subplots(figsize=(6,6), subplot_kw=dict(projection=target_crs))\n",
    "\n",
    "vmin = np.nanmin(ds_radar['t2m'])\n",
    "vmax = np.nanmax(ds_radar['t2m'])\n",
    "cmap='turbo'\n",
    "\n",
    "pcm = ax.pcolormesh(ds_t2m['longitude'], ds_t2m['latitude'], ds_t2m['t2m_mean'], vmin=vmin, vmax=vmax, cmap=cmap, alpha=0.4, transform=crs_lonlat)\n",
    "ax.coastlines(resolution='10m', color='white', linewidth=0.5)\n",
    "sc = ax.scatter(x=ds_radar.x, y=ds_radar.y, c=ds_radar.t2m, vmin=vmin, vmax=vmax, s=1, cmap=cmap)\n",
    "fig.colorbar(pcm, ax=ax, label='Temperature at 2 meters [K]')\n",
    "\n",
    "if dataset == 'antarctica':\n",
    "    ax.set_xlim(-3000e3, 3000e3)\n",
    "    ax.set_ylim(-3000e3, 3000e3)\n",
    "elif dataset == 'greenland':\n",
    "    ax.set_xlim(-6e5, 6e5)\n",
    "    ax.set_ylim(-3.5e6, -0.5e6)\n",
    "\n",
    "# Axes\n",
    "ax.set_xlabel(f'{crs_name} X [km]')\n",
    "ax.set_ylabel(f'{crs_name} Y [km]')\n",
    "ax.set_xticks(ax.get_xticks(), crs=target_crs)\n",
    "ax.set_yticks(ax.get_yticks(), crs=target_crs)\n",
    "ax.tick_params(axis='x', rotation=90)\n",
    "# Show axis ticks in kilometers\n",
    "ax.xaxis.set_major_formatter(plt.FuncFormatter(lambda x, _: f'{x/1000:.0f}'))\n",
    "ax.yaxis.set_major_formatter(plt.FuncFormatter(lambda x, _: f'{x/1000:.0f}'))"
   ]
  },
  {
   "cell_type": "code",
   "execution_count": 41,
   "metadata": {},
   "outputs": [],
   "source": [
    "# fig, ax = plt.subplots(figsize=(8,8))\n",
    "\n",
    "# ax.scatter(np.log(ds_radar.speed), ds_radar.snr, s=1, alpha=0.01)\n",
    "# ax.set_xlabel('Surface Velocity [log(m/yr)]')\n",
    "# ax.set_ylabel('RSSNR [dB]')\n",
    "# ax.set_title(f\"Mean Radius: {mean_radius/1e3} km\")"
   ]
  },
  {
   "cell_type": "code",
   "execution_count": 42,
   "metadata": {},
   "outputs": [],
   "source": [
    "# fig, ax = plt.subplots()\n",
    "\n",
    "# ds_bm_ais.errbed.plot.hist(bins=30, density=True, ax=ax, label='Antarctica')\n",
    "# ds_bm_gis.errbed.plot.hist(bins=30, density=True, ax=ax, label='Greenland', alpha=0.5)\n",
    "\n",
    "# print(np.min(ds_bm_ais.errbed))\n",
    "# print(np.min(ds_bm_gis.errbed))\n",
    "\n",
    "# ax.set_title('BedMachine error histogram')\n",
    "# ax.legend()"
   ]
  },
  {
   "cell_type": "code",
   "execution_count": 43,
   "metadata": {},
   "outputs": [],
   "source": [
    "ds_radar.to_netcdf(output_nc_path)"
   ]
  },
  {
   "cell_type": "code",
   "execution_count": null,
   "metadata": {},
   "outputs": [],
   "source": [
    "output_nc_path"
   ]
  }
 ],
 "metadata": {
  "kernelspec": {
   "display_name": "rssnr",
   "language": "python",
   "name": "python3"
  },
  "language_info": {
   "codemirror_mode": {
    "name": "ipython",
    "version": 3
   },
   "file_extension": ".py",
   "mimetype": "text/x-python",
   "name": "python",
   "nbconvert_exporter": "python",
   "pygments_lexer": "ipython3",
   "version": "3.10.16"
  }
 },
 "nbformat": 4,
 "nbformat_minor": 2
}
