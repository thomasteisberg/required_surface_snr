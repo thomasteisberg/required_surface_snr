{
 "cells": [
  {
   "cell_type": "markdown",
   "metadata": {},
   "source": [
    "## Interpolate input datasets to radar data locations\n",
    "\n",
    "The purpose of this notebook is to load external input datasets and interpolate them onto the locations of the provided radar RSSNR data.\n",
    "\n",
    "This notebook depends on external data sources. There is a script in `external_datasets/download_datasets.sh` that automates the process of downloading the required datasets.\n",
    "\n",
    "This notebook is intended to be run once per dataset (i.e. per combination of radar data source and ice sheet)."
   ]
  },
  {
   "cell_type": "code",
   "execution_count": 1,
   "metadata": {},
   "outputs": [],
   "source": [
    "%load_ext autoreload\n",
    "%autoreload 2"
   ]
  },
  {
   "cell_type": "code",
   "execution_count": null,
   "metadata": {},
   "outputs": [],
   "source": [
    "import dask\n",
    "from dask.distributed import Client, LocalCluster\n",
    "\n",
    "client = Client(n_workers=1, threads_per_worker=4, memory_limit='100GB') # Note that `memory_limit` is the limit **per worker**.\n",
    "\n",
    "client # If you click the dashboard link in the output, you can monitor real-time progress and get other cool visualizations."
   ]
  },
  {
   "cell_type": "code",
   "execution_count": 3,
   "metadata": {},
   "outputs": [],
   "source": [
    "import xarray as xr\n",
    "import pandas as pd\n",
    "import matplotlib.pyplot as plt\n",
    "import numpy as np\n",
    "import scipy.spatial\n",
    "import cartopy\n",
    "import cartopy.crs as ccrs"
   ]
  },
  {
   "cell_type": "code",
   "execution_count": 4,
   "metadata": {},
   "outputs": [],
   "source": [
    "# Map projections for plotting\n",
    "crs_3031 = cartopy.crs.Stereographic(central_latitude=-90, true_scale_latitude=-71) # All Antarctic data will be projected (if needed) to this\n",
    "crs_3413 = ccrs.Stereographic(central_latitude=90, central_longitude=-45, true_scale_latitude=70) # All Greenland data will be projected (if needed) to this\n",
    "crs_lonlat = cartopy.crs.PlateCarree()"
   ]
  },
  {
   "cell_type": "code",
   "execution_count": 5,
   "metadata": {},
   "outputs": [],
   "source": [
    "# Dataset options\n",
    "\n",
    "# CReSIS / Antarctica\n",
    "source_csv_path, decimate_by_n, output_nc_path, dataset = 'data_preprocessing/snr_data_cresis_ais.csv', 10, 'data_preprocessing/snr_data_cresis_ais_with_inputs.nc', 'antarctica'\n",
    "\n",
    "# CReSIS / Greenland\n",
    "#source_csv_path, decimate_by_n, output_nc_path, dataset = 'data_preprocessing/snr_data_cresis_gis.csv', 10, 'data_preprocessing/snr_data_cresis_gis_with_inputs.nc', 'greenland'\n",
    "\n",
    "# UTIG / Antarctica\n",
    "#source_csv_path, decimate_by_n, output_nc_path, dataset = 'external_datasets/utig_rssnr/snr.csv', 10, 'data_preprocessing/snr_data_utig_ais_with_inputs.nc', 'antarctica'"
   ]
  },
  {
   "cell_type": "code",
   "execution_count": null,
   "metadata": {},
   "outputs": [],
   "source": [
    "# Load required surface SNR data\n",
    "\n",
    "df_tmp = pd.read_csv(source_csv_path)[::decimate_by_n]\n",
    "ds_radar = xr.Dataset.from_dataframe(df_tmp)\n",
    "ds_radar"
   ]
  },
  {
   "cell_type": "code",
   "execution_count": null,
   "metadata": {},
   "outputs": [],
   "source": [
    "median_spacing = np.sqrt(np.median(np.diff(ds_radar.x)**2 + np.diff(ds_radar.y)**2))\n",
    "print(f\"Median along-track radar spacing after decimation by {decimate_by_n}: {median_spacing:.2f} m\")"
   ]
  },
  {
   "cell_type": "code",
   "execution_count": null,
   "metadata": {},
   "outputs": [],
   "source": [
    "# print 10th and 90th percentiles of ds_radar x and y\n",
    "print(\"10th percentile of ds_radar x:\", np.percentile(ds_radar.x, 10))\n",
    "print(\"90th percentile of ds_radar x:\", np.percentile(ds_radar.x, 90))\n",
    "print(\"10th percentile of ds_radar y:\", np.percentile(ds_radar.y, 10))\n",
    "print(\"90th percentile of ds_radar y:\", np.percentile(ds_radar.y, 90))"
   ]
  },
  {
   "cell_type": "code",
   "execution_count": 9,
   "metadata": {},
   "outputs": [],
   "source": [
    "if dataset == 'antarctica':\n",
    "    # Load BedMachine datasets\n",
    "    ds_bm = xr.load_dataset(\"external_datasets/BedMachineAntarctica-v3.nc\")\n",
    "\n",
    "    # Load Rignot surface velocity datasets\n",
    "    ds_vel = xr.load_dataset(\"external_datasets/antarctic_ice_vel_phase_map_v01.nc\")\n",
    "elif dataset == 'greenland':\n",
    "    # Load BedMachine datasets\n",
    "    ds_bm = xr.load_dataset(\"external_datasets/BedMachineGreenland-v5.nc\")\n",
    "\n",
    "    # Load ITS_LIVE surface velocity\n",
    "    ds_vel = xr.load_dataset(\"external_datasets/ITS_LIVE_velocity_120m_RGI05A_0000_v02.nc\")"
   ]
  },
  {
   "cell_type": "code",
   "execution_count": 10,
   "metadata": {},
   "outputs": [],
   "source": [
    "# # Load ERA5 t2m data\n",
    "ds_era5 = xr.open_dataset(\"external_datasets/era5_t2m_ensemble.nc\")\n",
    "\n",
    "t2m_mean = ds_era5.t2m.mean(dim='valid_time').mean(dim='number')\n",
    "t2m_std = ds_era5.t2m.mean(dim='valid_time').std(dim='number')\n",
    "\n",
    "# Combined t2m_mean and t2m_std into a single dataset\n",
    "ds_t2m = xr.Dataset({'t2m_mean': t2m_mean, 't2m_std': t2m_std})"
   ]
  },
  {
   "cell_type": "code",
   "execution_count": 11,
   "metadata": {},
   "outputs": [],
   "source": [
    "if dataset == 'antarctica':\n",
    "    # Calculate magnitude (speed) and error per NSIDC-0754 user guide:\n",
    "    # https://nsidc.org/sites/default/files/nsidc-0754-v001-userguide.pdf\n",
    "    ds_vel['speed'] = np.sqrt(ds_vel['VX']**2 + ds_vel['VY']**2)\n",
    "    ds_vel['speed_err'] = np.sqrt(ds_vel['ERRX']**2 + ds_vel['ERRY']**2)\n",
    "elif dataset == 'greenland':\n",
    "    # ITS_LIVE velocity data already has magnitude and magnitude error calculated, just need to re-name\n",
    "    ds_vel['speed'] = ds_vel['v']\n",
    "    ds_vel['speed_err'] = ds_vel['v_error']"
   ]
  },
  {
   "cell_type": "code",
   "execution_count": 12,
   "metadata": {},
   "outputs": [],
   "source": [
    "def interpolate_nearest_from_grid(ds_source, ds_target, field_names, x_name='x', y_name='y', mean_radius=None, source_crs=None, target_crs=None):\n",
    "    \"\"\"\n",
    "    Interpolate a gridded field from ds_source to ungridded points in ds_target using nearest neighbor.\n",
    "\n",
    "    Parameters:\n",
    "        ds_source (xr.Dataset): Gridded source dataset\n",
    "        ds_target (xr.Dataset): Ungridded target dataset with x/y coordinates\n",
    "        field_names (str or list of str): Name of the variable(s) to interpolate from ds_source\n",
    "        x_name (str): Name of x-coordinate in source datasets\n",
    "        y_name (str): Name of y-coordinate in source datasets\n",
    "\n",
    "    Returns:\n",
    "        xr.DataArray: Interpolated field with same coords/dims as ds_target or a list of the same length as field_names\n",
    "    \"\"\"\n",
    "\n",
    "    # Check if field_names is a list or a single string\n",
    "    if isinstance(field_names, str):\n",
    "        field_names = [field_names]\n",
    "\n",
    "    # Extract gridded source coordinates and field\n",
    "    X_src, Y_src = np.meshgrid(ds_source[x_name].values, ds_source[y_name].values)\n",
    "    X_src, Y_src = X_src.ravel(), Y_src.ravel()\n",
    "    if source_crs is not None:\n",
    "        # Transform source coordinates to target CRS if needed\n",
    "        coords_src = target_crs.transform_points(source_crs, X_src, Y_src) # TODO: Swapping Y and X here. Check to see if this is correct in general.\n",
    "        X_src, Y_src = coords_src[:, 0], coords_src[:, 1]\n",
    "        #print((np.min(X_src), np.max(X_src), np.min(Y_src), np.max(Y_src)))\n",
    "    Z_src = [ds_source[fn].values for fn in field_names]\n",
    "\n",
    "    # Flatten for KDTree\n",
    "    source_points = np.column_stack((X_src, Y_src))\n",
    "    source_values = [z.ravel() for z in Z_src]\n",
    "\n",
    "    # Extract scattered target coordinates\n",
    "    x_tgt = ds_target['x'].values\n",
    "    y_tgt = ds_target['y'].values\n",
    "    target_points = np.column_stack((x_tgt, y_tgt))\n",
    "\n",
    "    # Build KDTree and query nearest neighbors\n",
    "    tree = scipy.spatial.KDTree(source_points)\n",
    "    interpolated_values = []\n",
    "    if mean_radius:\n",
    "        print(\"Using average of nearest neighbors within radius of\", mean_radius, \"m\")\n",
    "        idxs_list = tree.query_ball_point(target_points, mean_radius, workers=-1)\n",
    "        \n",
    "        for sv in source_values:\n",
    "            # For each source variable, calculate the mean of the values at the nearest neighbors\n",
    "            interpolated_values.append(np.array([np.mean(sv[idxs]) for idxs in idxs_list]))\n",
    "    else:\n",
    "        dists, idx = tree.query(target_points, k=1)\n",
    "        for sv in source_values:\n",
    "            # For each source variable, take the value at the nearest neighbor\n",
    "            tmp = np.array(sv[idx])\n",
    "            interpolated_values.append(tmp)\n",
    "\n",
    "    # Convert to DataArray\n",
    "    interpolated_values_xr = [xr.DataArray(\n",
    "                values,\n",
    "                dims=['index'],\n",
    "                coords={'index': ds_target.index},\n",
    "                name=fn\n",
    "            ) for values, fn in zip(interpolated_values, field_names)\n",
    "        ]\n",
    "    \n",
    "    if len(interpolated_values_xr) == 1:\n",
    "        return interpolated_values_xr[0]\n",
    "    else:\n",
    "        return interpolated_values_xr"
   ]
  },
  {
   "cell_type": "code",
   "execution_count": 13,
   "metadata": {},
   "outputs": [],
   "source": [
    "# NN interpolate from BedMachine data\n",
    "ds_radar['thickness'], ds_radar['thickness_err'], ds_radar['bm_mask'], ds_radar['surface'] = interpolate_nearest_from_grid(ds_bm, ds_radar,\n",
    "                                                                                                        ['thickness', 'errbed', 'mask', 'surface'])"
   ]
  },
  {
   "cell_type": "code",
   "execution_count": 14,
   "metadata": {},
   "outputs": [],
   "source": [
    "# NN interpolate from surface velocity data\n",
    "mean_radius = None # meters\n",
    "\n",
    "ds_radar['speed'], ds_radar['speed_err'] = interpolate_nearest_from_grid(ds_vel, ds_radar, ['speed', 'speed_err'], mean_radius=mean_radius)"
   ]
  },
  {
   "cell_type": "code",
   "execution_count": 15,
   "metadata": {},
   "outputs": [],
   "source": [
    "if dataset == 'antarctica':\n",
    "    target_crs = crs_3031\n",
    "    crs_name = 'EPSG:3031'\n",
    "elif dataset == 'greenland':\n",
    "    target_crs = crs_3413\n",
    "    crs_name = 'EPSG:3413'\n",
    "\n",
    "ds_radar['t2m'], ds_radar['t2m_err'] = interpolate_nearest_from_grid(ds_t2m, ds_radar, ['t2m_mean', 't2m_std'],\n",
    "                                            source_crs=crs_lonlat, target_crs=target_crs, y_name='latitude', x_name='longitude')"
   ]
  },
  {
   "cell_type": "code",
   "execution_count": null,
   "metadata": {},
   "outputs": [],
   "source": [
    "# Sanity check: Plot interpolated thickness points over BedMachine thickness map\n",
    "\n",
    "fig, ax = plt.subplots(figsize=(6,6), subplot_kw=dict(projection=target_crs))\n",
    "\n",
    "vmin = np.nanmin(ds_bm['thickness'])\n",
    "vmax = np.nanmax(ds_bm['thickness'])\n",
    "\n",
    "ds_bm['surface'][::10, ::10].plot.pcolormesh(ax=ax, alpha=0.8, vmin=vmin, vmax=vmax, cmap='turbo')\n",
    "ax.coastlines(resolution='10m', color='white', linewidth=0.5)\n",
    "\n",
    "ax.scatter(x=ds_radar.x, y=ds_radar.y, c=ds_radar.surface, vmin=vmin, vmax=vmax, s=1, cmap='turbo')\n",
    "\n",
    "# Axes and coastlines\n",
    "ax.set_xlabel(f'{crs_name} X [km]')\n",
    "ax.set_ylabel(f'{crs_name} Y [km]')\n",
    "\n",
    "# if dataset == 'greenland':\n",
    "#     ax.set_xlim(-6e5, 6e5)\n",
    "#     ax.set_ylim(-3.5e6, -0.5e6)\n",
    "\n",
    "ax.set_xticks(ax.get_xticks(), crs=target_crs)\n",
    "ax.set_yticks(ax.get_yticks(), crs=target_crs)\n",
    "ax.tick_params(axis='x', rotation=90)\n",
    "# Show axis ticks in kilometers\n",
    "ax.xaxis.set_major_formatter(plt.FuncFormatter(lambda x, _: f'{x/1000:.0f}'))\n",
    "ax.yaxis.set_major_formatter(plt.FuncFormatter(lambda x, _: f'{x/1000:.0f}'))\n"
   ]
  },
  {
   "cell_type": "code",
   "execution_count": null,
   "metadata": {},
   "outputs": [],
   "source": [
    "# Sanity check: Plot interpolated surface velocity points over MEaSUREs surface velocity map\n",
    "fig, ax = plt.subplots(figsize=(6,6), subplot_kw=dict(projection=target_crs))\n",
    "vmin = 0 #np.nanmin(np.log(ds_vel['speed']))\n",
    "vmax = np.nanmax(np.log(ds_vel['speed']))\n",
    "\n",
    "cmap='turbo'\n",
    "\n",
    "np.log(ds_vel['speed'][::10, ::10]).plot.pcolormesh(ax=ax, alpha=0.8, vmin=vmin, vmax=vmax, cmap=cmap)\n",
    "ax.coastlines(resolution='10m', color='white', linewidth=0.5)\n",
    "\n",
    "ax.scatter(x=ds_radar.x, y=ds_radar.y, c=np.log(ds_radar.speed), vmin=vmin, vmax=vmax, s=1, cmap=cmap)\n",
    "\n",
    "# Axes\n",
    "ax.set_xlabel(f'{crs_name} X [km]')\n",
    "ax.set_ylabel(f'{crs_name} Y [km]')\n",
    "ax.set_xticks(ax.get_xticks(), crs=target_crs)\n",
    "ax.set_yticks(ax.get_yticks(), crs=target_crs)\n",
    "ax.tick_params(axis='x', rotation=90)\n",
    "# Show axis ticks in kilometers\n",
    "ax.xaxis.set_major_formatter(plt.FuncFormatter(lambda x, _: f'{x/1000:.0f}'))\n",
    "ax.yaxis.set_major_formatter(plt.FuncFormatter(lambda x, _: f'{x/1000:.0f}'))\n"
   ]
  },
  {
   "cell_type": "code",
   "execution_count": null,
   "metadata": {},
   "outputs": [],
   "source": [
    "ds_radar['t2m'].min(), ds_radar['t2m'].max()"
   ]
  },
  {
   "cell_type": "code",
   "execution_count": null,
   "metadata": {},
   "outputs": [],
   "source": [
    "# Sanity check: Plot interpolated t2m points over ERA5 t2m map\n",
    "\n",
    "fig, ax = plt.subplots(figsize=(6,6), subplot_kw=dict(projection=target_crs))\n",
    "\n",
    "vmin = np.nanmin(ds_radar['t2m'])\n",
    "vmax = np.nanmax(ds_radar['t2m'])\n",
    "cmap='turbo'\n",
    "\n",
    "pcm = ax.pcolormesh(ds_t2m['longitude'], ds_t2m['latitude'], ds_t2m['t2m_mean'], vmin=vmin, vmax=vmax, cmap=cmap, alpha=0.4, transform=crs_lonlat)\n",
    "ax.coastlines(resolution='10m', color='white', linewidth=0.5)\n",
    "sc = ax.scatter(x=ds_radar.x, y=ds_radar.y, c=ds_radar.t2m, vmin=vmin, vmax=vmax, s=1, cmap=cmap)\n",
    "fig.colorbar(pcm, ax=ax, label='Temperature at 2 meters [K]')\n",
    "\n",
    "if dataset == 'antarctica':\n",
    "    ax.set_xlim(-3000e3, 3000e3)\n",
    "    ax.set_ylim(-3000e3, 3000e3)\n",
    "elif dataset == 'greenland':\n",
    "    ax.set_xlim(-6e5, 6e5)\n",
    "    ax.set_ylim(-3.5e6, -0.5e6)\n",
    "\n",
    "# Axes\n",
    "ax.set_xlabel(f'{crs_name} X [km]')\n",
    "ax.set_ylabel(f'{crs_name} Y [km]')\n",
    "ax.set_xticks(ax.get_xticks(), crs=target_crs)\n",
    "ax.set_yticks(ax.get_yticks(), crs=target_crs)\n",
    "ax.tick_params(axis='x', rotation=90)\n",
    "# Show axis ticks in kilometers\n",
    "ax.xaxis.set_major_formatter(plt.FuncFormatter(lambda x, _: f'{x/1000:.0f}'))\n",
    "ax.yaxis.set_major_formatter(plt.FuncFormatter(lambda x, _: f'{x/1000:.0f}'))"
   ]
  },
  {
   "cell_type": "code",
   "execution_count": 20,
   "metadata": {},
   "outputs": [],
   "source": [
    "# fig, ax = plt.subplots(figsize=(8,8))\n",
    "\n",
    "# ax.scatter(np.log(ds_radar.speed), ds_radar.snr, s=1, alpha=0.01)\n",
    "# ax.set_xlabel('Surface Velocity [log(m/yr)]')\n",
    "# ax.set_ylabel('RSSNR [dB]')\n",
    "# ax.set_title(f\"Mean Radius: {mean_radius/1e3} km\")"
   ]
  },
  {
   "cell_type": "code",
   "execution_count": 21,
   "metadata": {},
   "outputs": [],
   "source": [
    "# fig, ax = plt.subplots()\n",
    "\n",
    "# ds_bm_ais.errbed.plot.hist(bins=30, density=True, ax=ax, label='Antarctica')\n",
    "# ds_bm_gis.errbed.plot.hist(bins=30, density=True, ax=ax, label='Greenland', alpha=0.5)\n",
    "\n",
    "# print(np.min(ds_bm_ais.errbed))\n",
    "# print(np.min(ds_bm_gis.errbed))\n",
    "\n",
    "# ax.set_title('BedMachine error histogram')\n",
    "# ax.legend()"
   ]
  },
  {
   "cell_type": "code",
   "execution_count": 22,
   "metadata": {},
   "outputs": [],
   "source": [
    "ds_radar.to_netcdf(output_nc_path)"
   ]
  }
 ],
 "metadata": {
  "kernelspec": {
   "display_name": "rssnr",
   "language": "python",
   "name": "python3"
  },
  "language_info": {
   "codemirror_mode": {
    "name": "ipython",
    "version": 3
   },
   "file_extension": ".py",
   "mimetype": "text/x-python",
   "name": "python",
   "nbconvert_exporter": "python",
   "pygments_lexer": "ipython3",
   "version": "3.10.16"
  }
 },
 "nbformat": 4,
 "nbformat_minor": 2
}
