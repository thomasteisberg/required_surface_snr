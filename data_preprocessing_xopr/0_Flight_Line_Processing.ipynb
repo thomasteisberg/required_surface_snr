{
 "cells": [
  {
   "cell_type": "code",
   "execution_count": null,
   "id": "c669658f",
   "metadata": {},
   "outputs": [],
   "source": [
    "import yaml\n",
    "import traceback\n",
    "\n",
    "import dask\n",
    "import dask.distributed\n",
    "\n",
    "import fsspec\n",
    "\n",
    "import xopr.opr_access\n",
    "\n",
    "from radar_line_processing import process_radar_line, get_output_locations, cache_exists"
   ]
  },
  {
   "cell_type": "markdown",
   "id": "e2328d8d",
   "metadata": {},
   "source": [
    "### Setup processing cluster"
   ]
  },
  {
   "cell_type": "code",
   "execution_count": null,
   "id": "d76d223b",
   "metadata": {},
   "outputs": [],
   "source": [
    "client = dask.distributed.LocalCluster().get_client()\n",
    "client"
   ]
  },
  {
   "cell_type": "markdown",
   "id": "ab4c21f3",
   "metadata": {},
   "source": [
    "### Load parameters"
   ]
  },
  {
   "cell_type": "code",
   "execution_count": null,
   "id": "60cba4c6",
   "metadata": {},
   "outputs": [],
   "source": [
    "with open(\"data_preprocessing_config.yaml\", \"r\") as f:\n",
    "    config = yaml.safe_load(f)\n",
    "\n",
    "for k in config:\n",
    "    print(f\"=== {k} ===\")\n",
    "    for sk in config[k]:\n",
    "        print(f\"- {sk}: {config[k][sk]}\")\n",
    "    print(\"\")"
   ]
  },
  {
   "cell_type": "markdown",
   "id": "71053a38",
   "metadata": {},
   "source": [
    "### Query STAC catalog for flights to process"
   ]
  },
  {
   "cell_type": "code",
   "execution_count": null,
   "id": "9b5deac7",
   "metadata": {},
   "outputs": [],
   "source": [
    "opr = xopr.opr_access.OPRConnection(cache_dir=\"radar_cache\")\n",
    "flights = {}\n",
    "for collection in config[\"input\"][\"collections\"]:\n",
    "    flights[collection] = [f['flight_id'] for f in opr.get_flights(collection)]\n",
    "\n",
    "    limit = config[\"input\"].get(\"flights_per_collection_limit\", None)\n",
    "    if (limit is not None) and limit > 0:\n",
    "        flights[collection] = flights[collection][:limit]\n",
    "\n",
    "    print(f\"Found {len(flights[collection])} flights in collection {collection}\")"
   ]
  },
  {
   "cell_type": "code",
   "execution_count": null,
   "id": "52f5c4b2",
   "metadata": {},
   "outputs": [],
   "source": [
    "# Remove any collections that already have a cached processed output\n",
    "if config['processing_flights']['check_for_cached_files']:\n",
    "    n_flights_to_process = 0\n",
    "    for collection in flights:\n",
    "        flights[collection] = [\n",
    "            f for f in flights[collection]\n",
    "            if not cache_exists(f, collection,\n",
    "                    config[\"output\"][\"processed_flight_cache_url\"],\n",
    "                    cache_revision_id=config[\"processing_flights\"][\"cache_revision_id\"])\n",
    "        ]\n",
    "        n_flights_to_process += len(flights[collection])\n",
    "    \n",
    "    print(f\"Found {n_flights_to_process} flights to process after checking for cached files\")"
   ]
  },
  {
   "cell_type": "markdown",
   "id": "1a786939",
   "metadata": {},
   "source": [
    "### Process flights"
   ]
  },
  {
   "cell_type": "code",
   "execution_count": null,
   "id": "8c75b14a",
   "metadata": {},
   "outputs": [],
   "source": [
    "futures = []\n",
    "for season_name in flights:\n",
    "    futures.extend(client.map(process_radar_line, flights[season_name],\n",
    "        season_name=season_name,\n",
    "        output_storage_location=config[\"output\"][\"processed_flight_cache_url\"],\n",
    "        parameters=config[\"processing_flights\"],\n",
    "        return_dataset=False,\n",
    "        opr_connection=opr\n",
    "        ))\n",
    "\n",
    "results = []\n",
    "for future in dask.distributed.as_completed(futures):\n",
    "    try:\n",
    "        result = future.result()\n",
    "        results.append(result)\n",
    "    except Exception as e:\n",
    "        print(f\"Error processing flight: {e}\")\n",
    "        traceback.print_exc()"
   ]
  },
  {
   "cell_type": "code",
   "execution_count": null,
   "id": "84609c7b",
   "metadata": {},
   "outputs": [],
   "source": [
    "results"
   ]
  },
  {
   "cell_type": "code",
   "execution_count": null,
   "id": "8fef8a28",
   "metadata": {},
   "outputs": [],
   "source": []
  }
 ],
 "metadata": {
  "kernelspec": {
   "display_name": "data-preprocessing-xopr",
   "language": "python",
   "name": "python3"
  },
  "language_info": {
   "codemirror_mode": {
    "name": "ipython",
    "version": 3
   },
   "file_extension": ".py",
   "mimetype": "text/x-python",
   "name": "python",
   "nbconvert_exporter": "python",
   "pygments_lexer": "ipython3",
   "version": "3.13.5"
  }
 },
 "nbformat": 4,
 "nbformat_minor": 5
}
