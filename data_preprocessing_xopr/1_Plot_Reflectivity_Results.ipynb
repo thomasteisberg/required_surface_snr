{
 "cells": [
  {
   "cell_type": "code",
   "execution_count": null,
   "id": "00df7270",
   "metadata": {},
   "outputs": [],
   "source": [
    "import xarray as xr\n",
    "import fsspec\n",
    "import zarr\n",
    "import yaml\n",
    "import scipy.constants\n",
    "import numpy as np\n",
    "\n",
    "import holoviews as hv\n",
    "import geoviews as gv\n",
    "import geoviews.feature as gf\n",
    "from cartopy import crs\n",
    "import hvplot.xarray\n",
    "\n",
    "hv.extension('bokeh')\n",
    "epsg_3031 = crs.Stereographic(central_latitude=-90, true_scale_latitude=-71)\n",
    "latlon = crs.PlateCarree()"
   ]
  },
  {
   "cell_type": "markdown",
   "id": "34c18ec5",
   "metadata": {},
   "source": [
    "### Load parameters"
   ]
  },
  {
   "cell_type": "code",
   "execution_count": null,
   "id": "f3820cfa",
   "metadata": {},
   "outputs": [],
   "source": [
    "with open(\"data_preprocessing_config.yaml\", \"r\") as f:\n",
    "    config = yaml.safe_load(f)\n",
    "\n",
    "for k in config:\n",
    "    print(f\"=== {k} ===\")\n",
    "    for sk in config[k]:\n",
    "        print(f\"- {sk}: {config[k][sk]}\")\n",
    "    print(\"\")"
   ]
  },
  {
   "cell_type": "markdown",
   "id": "3a3d9514",
   "metadata": {},
   "source": [
    "### Find all processed data cache files"
   ]
  },
  {
   "cell_type": "code",
   "execution_count": null,
   "id": "a495abed",
   "metadata": {},
   "outputs": [],
   "source": [
    "output_storage_location = config['output']['processed_flight_cache_url']\n",
    "\n",
    "# Open the directory with fsspec and list all *.zarr.zip files\n",
    "fs, path = fsspec.core.url_to_fs(output_storage_location)\n",
    "zarr_files = fs.glob(f\"{path}/*.zarr\")\n",
    "\n",
    "print(f\"Found {len(zarr_files)} zarr files in {output_storage_location} ({type(fs).__name__})\")"
   ]
  },
  {
   "cell_type": "code",
   "execution_count": null,
   "id": "6ff1dd2f",
   "metadata": {},
   "outputs": [],
   "source": [
    "datasets = []\n",
    "broken_datasets = []\n",
    "for path in zarr_files:\n",
    "    mapper = fsspec.get_mapper(f\"{path}\")\n",
    "\n",
    "    ds = xr.open_dataset(mapper, engine='zarr')\n",
    "\n",
    "    datasets.append(ds)\n",
    "\n",
    "ds = xr.concat(datasets, dim='slow_time', combine_attrs='drop_conflicts')\n",
    "ds"
   ]
  },
  {
   "cell_type": "markdown",
   "id": "ca190707",
   "metadata": {},
   "source": [
    "### Add projected coordinates and compute stats we care about"
   ]
  },
  {
   "cell_type": "code",
   "execution_count": null,
   "id": "d0529c2e",
   "metadata": {},
   "outputs": [],
   "source": [
    "# Add x and y coordinates projected to EPSG:3031\n",
    "projected_coords = epsg_3031.transform_points(\n",
    "    crs.PlateCarree(), ds['Longitude'].values, ds['Latitude'].values\n",
    ").T\n",
    "ds = ds.assign_coords({\n",
    "    'x': (('slow_time'), projected_coords[0]),\n",
    "    'y': (('slow_time'), projected_coords[1])\n",
    "})"
   ]
  },
  {
   "cell_type": "code",
   "execution_count": null,
   "id": "bb5c77ea",
   "metadata": {},
   "outputs": [],
   "source": [
    "bed_minus_surface = ds.bed_power_dB - ds.surface_power_dB\n",
    "bed_minus_surface = bed_minus_surface.dropna('slow_time')\n",
    "bed_minus_surface.name = 'bed_minus_surface'"
   ]
  },
  {
   "cell_type": "code",
   "execution_count": null,
   "id": "827bd963",
   "metadata": {},
   "outputs": [],
   "source": [
    "h = ds.surface_twtt * scipy.constants.c / 2\n",
    "h.name = 'surface_height'\n",
    "\n",
    "n = np.sqrt(config['processing_flights']['ice_relative_permittivity'])\n",
    "speed_in_ice = scipy.constants.c / n\n",
    "z = (ds.bed_twtt - ds.surface_twtt) * speed_in_ice / 2\n",
    "z.name = 'ice_thickness'\n",
    "\n",
    "geom_spreading_surf_dB = 10 * np.log10(1 / (h**2))\n",
    "geom_spreading_bed_dB = 10 * np.log10(1 / (h + z/n)**2)\n",
    "\n",
    "rssnr = (\n",
    "        (ds.surface_power_dB - geom_spreading_surf_dB) -\n",
    "        (ds.bed_power_dB - geom_spreading_bed_dB)\n",
    "        ).dropna('slow_time')\n",
    "rssnr.name = 'rssnr'"
   ]
  },
  {
   "cell_type": "code",
   "execution_count": null,
   "id": "d588ff2d",
   "metadata": {},
   "outputs": [],
   "source": [
    "features = gf.ocean().options(scale='50m', projection=epsg_3031) * gf.coastline().options(scale='50m', projection=epsg_3031)\n",
    "\n",
    "sc = rssnr.hvplot.scatter(x='x', y='y', c='rssnr', groupby=[], data_aspect=1, size=3,\n",
    "                       hover_cols=['surface_power_dB', 'bed_power_dB'], cmap='turbo')\n",
    "\n",
    "(features * sc).opts(\n",
    "    width=800,\n",
    "    height=600\n",
    ")"
   ]
  },
  {
   "cell_type": "code",
   "execution_count": null,
   "id": "c57823cf",
   "metadata": {},
   "outputs": [],
   "source": [
    "rssnr"
   ]
  },
  {
   "cell_type": "code",
   "execution_count": null,
   "id": "f3ded50b",
   "metadata": {},
   "outputs": [],
   "source": [
    "features = gf.ocean().options(scale='50m', projection=epsg_3031) * gf.coastline().options(scale='50m', projection=epsg_3031)\n",
    "\n",
    "sc = bed_minus_surface.hvplot.scatter(x='x', y='y', c='bed_minus_surface', groupby=[], data_aspect=1, size=3,\n",
    "                       hover_cols=['surface_power_dB', 'bed_power_dB'], cmap='turbo')\n",
    "\n",
    "(features * sc).opts(\n",
    "    width=800,\n",
    "    height=600\n",
    ")"
   ]
  },
  {
   "cell_type": "code",
   "execution_count": null,
   "id": "367cda71",
   "metadata": {},
   "outputs": [],
   "source": [
    "# features = gf.coastline().options(scale='50m') * gf.ocean().options(scale='50m') * gf.coastline().options(scale='50m')\n",
    "# points = gv.Points(\n",
    "#       data=(ds.Longitude, ds.Latitude, ds.surface_power_dB.values),\n",
    "#       kdims=['Longitude', 'Latitude'],\n",
    "#       vdims=['surface_power_dB'],\n",
    "#       crs=latlon,  # Input CRS (lat/lon)\n",
    "#   ).opts(\n",
    "#       projection=epsg_3031,  # Output projection\n",
    "#       color='surface_power_dB',\n",
    "#       cmap='viridis',\n",
    "#       colorbar=True,\n",
    "#       hover_tooltips=['surface_power_dB'],\n",
    "#       size=3,\n",
    "#       width=800,\n",
    "#       height=600,\n",
    "#       data_aspect=1,\n",
    "#       show_frame=True,\n",
    "#       xaxis=True,\n",
    "#       yaxis=True\n",
    "#   )\n",
    "# features * points"
   ]
  },
  {
   "cell_type": "code",
   "execution_count": null,
   "id": "51f77d4a",
   "metadata": {},
   "outputs": [],
   "source": []
  }
 ],
 "metadata": {
  "kernelspec": {
   "display_name": "data-preprocessing-xopr",
   "language": "python",
   "name": "python3"
  },
  "language_info": {
   "codemirror_mode": {
    "name": "ipython",
    "version": 3
   },
   "file_extension": ".py",
   "mimetype": "text/x-python",
   "name": "python",
   "nbconvert_exporter": "python",
   "pygments_lexer": "ipython3",
   "version": "3.13.5"
  }
 },
 "nbformat": 4,
 "nbformat_minor": 5
}
