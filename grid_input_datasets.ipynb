{
 "cells": [
  {
   "cell_type": "code",
   "execution_count": null,
   "metadata": {},
   "outputs": [],
   "source": [
    "%load_ext autoreload\n",
    "%autoreload 2"
   ]
  },
  {
   "cell_type": "code",
   "execution_count": null,
   "metadata": {},
   "outputs": [],
   "source": [
    "import dask\n",
    "from dask.distributed import Client, LocalCluster\n",
    "\n",
    "client = Client(n_workers=1, threads_per_worker=4, memory_limit='100GB') # Note that `memory_limit` is the limit **per worker**.\n",
    "\n",
    "client # If you click the dashboard link in the output, you can monitor real-time progress and get other cool visualizations."
   ]
  },
  {
   "cell_type": "code",
   "execution_count": 15,
   "metadata": {},
   "outputs": [],
   "source": [
    "import xarray as xr\n",
    "import pandas as pd\n",
    "import matplotlib.pyplot as plt\n",
    "import numpy as np\n",
    "import scipy.spatial\n",
    "import cartopy\n",
    "import cartopy.crs as ccrs\n",
    "\n",
    "from interpolation_utils import interpolate_nearest_from_grid"
   ]
  },
  {
   "cell_type": "code",
   "execution_count": 16,
   "metadata": {},
   "outputs": [],
   "source": [
    "# Map projections for plotting\n",
    "crs_3031 = cartopy.crs.Stereographic(central_latitude=-90, true_scale_latitude=-71) # All Antarctic data will be projected (if needed) to this\n",
    "crs_3413 = ccrs.Stereographic(central_latitude=90, central_longitude=-45, true_scale_latitude=70) # All Greenland data will be projected (if needed) to this\n",
    "crs_lonlat = cartopy.crs.PlateCarree()"
   ]
  },
  {
   "cell_type": "code",
   "execution_count": 17,
   "metadata": {},
   "outputs": [],
   "source": [
    "target_resolution = 10e3 # meters\n",
    "\n",
    "dataset = 'antarctica'\n",
    "\n",
    "if dataset == 'antarctica':\n",
    "    # BedMachine Antarctica grid has 500 m spacing\n",
    "    # Decimate by 2 to get 1 km spacing\n",
    "    bm_grid_decimation = 2\n",
    "\n",
    "    projection = crs_3031\n",
    "\n",
    "    output_nc_path = 'data_preprocessing/input_data_ais.nc'\n",
    "elif dataset == 'greenland':\n",
    "    # BedMachine Greenland grid has 150 m spacing\n",
    "    # Decimate by 6 to get 900 m spacing\n",
    "    bm_grid_decimation = 6\n",
    "\n",
    "    projection = crs_3413\n",
    "\n",
    "    output_nc_path = 'data_preprocessing/input_data_gis.nc'"
   ]
  },
  {
   "cell_type": "code",
   "execution_count": 18,
   "metadata": {},
   "outputs": [],
   "source": [
    "if dataset == 'antarctica':\n",
    "    # Load BedMachine datasets\n",
    "    ds_bm = xr.open_dataset(\"external_datasets/BedMachineAntarctica-v3.nc\")\n",
    "\n",
    "    # Load Rignot surface velocity datasets\n",
    "    ds_vel = xr.open_dataset(\"external_datasets/antarctic_ice_vel_phase_map_v01.nc\")\n",
    "elif dataset == 'greenland':\n",
    "    # Load BedMachine datasets\n",
    "    ds_bm = xr.open_dataset(\"external_datasets/BedMachineGreenland-v5.nc\")\n",
    "\n",
    "    # Load ITS_LIVE surface velocity\n",
    "    ds_vel = xr.open_dataset(\"external_datasets/ITS_LIVE_velocity_120m_RGI05A_0000_v02.nc\")\n",
    "\n",
    "if dataset == 'antarctica':\n",
    "    # Calculate magnitude (speed) and error per NSIDC-0754 user guide:\n",
    "    # https://nsidc.org/sites/default/files/nsidc-0754-v001-userguide.pdf\n",
    "    ds_vel['speed'] = np.sqrt(ds_vel['VX']**2 + ds_vel['VY']**2)\n",
    "    ds_vel['speed_err'] = np.sqrt(ds_vel['ERRX']**2 + ds_vel['ERRY']**2)\n",
    "elif dataset == 'greenland':\n",
    "    # ITS_LIVE velocity data already has magnitude and magnitude error calculated, just need to re-name\n",
    "    ds_vel['speed'] = ds_vel['v']\n",
    "    ds_vel['speed_err'] = ds_vel['v_error']"
   ]
  },
  {
   "cell_type": "code",
   "execution_count": 19,
   "metadata": {},
   "outputs": [],
   "source": [
    "# Load ERA5 t2m data\n",
    "ds_era5 = xr.open_dataset(\"external_datasets/era5_t2m_ensemble.nc\")\n",
    "\n",
    "t2m_mean = ds_era5.t2m.mean(dim='valid_time').mean(dim='number')\n",
    "t2m_std = ds_era5.t2m.mean(dim='valid_time').std(dim='number')\n",
    "\n",
    "# Combined t2m_mean and t2m_std into a single dataset\n",
    "ds_t2m = xr.Dataset({'t2m_mean': t2m_mean, 't2m_std': t2m_std})"
   ]
  },
  {
   "cell_type": "code",
   "execution_count": 20,
   "metadata": {},
   "outputs": [],
   "source": [
    "# Start with a decimated copy of the bedmachine dataset\n",
    "ds_output = ds_bm.isel(\n",
    "    x=slice(0, None, bm_grid_decimation),\n",
    "    y=slice(0, None, bm_grid_decimation)\n",
    ")[['thickness', 'errbed', 'mask', 'surface']]"
   ]
  },
  {
   "cell_type": "code",
   "execution_count": 21,
   "metadata": {},
   "outputs": [],
   "source": [
    "# Surface velocity\n",
    "# TODO: NN interpolation is not really the appropriate choice here. We should probably resample and take the mean.\n",
    "# But good enough for now.\n",
    "\n",
    "ds_output['speed'], ds_output['speed_err'] = interpolate_nearest_from_grid(ds_vel, ds_output, ['speed', 'speed_err'], target_gridded=True)"
   ]
  },
  {
   "cell_type": "code",
   "execution_count": 22,
   "metadata": {},
   "outputs": [],
   "source": [
    "# Surface temperature\n",
    "# Since this data is very coarse anyway, we'll just use nearest-neighbor interpolation\n",
    "\n",
    "ds_output['t2m'], ds_output['t2m_err'] = interpolate_nearest_from_grid(ds_t2m, ds_output, ['t2m_mean', 't2m_std'],\n",
    "                                            source_crs=crs_lonlat, target_crs=projection, y_name='latitude', x_name='longitude',\n",
    "                                            target_gridded=True)"
   ]
  },
  {
   "cell_type": "code",
   "execution_count": null,
   "metadata": {},
   "outputs": [],
   "source": [
    "# Check out work with some plots\n",
    "\n",
    "decimate_by = 10 # Additional decimation only for plotting\n",
    "\n",
    "for variable_to_plot in ds_output.data_vars:\n",
    "    if \"Unnamed\" in variable_to_plot:\n",
    "        continue\n",
    "    if (variable_to_plot == 'x') or (variable_to_plot == 'y'):\n",
    "        continue\n",
    "    if \"source\" in variable_to_plot:\n",
    "        continue\n",
    "\n",
    "    try:\n",
    "        fig, ax = plt.subplots(figsize=(6,4), subplot_kw=dict(projection=projection))\n",
    "\n",
    "        pcm = ax.pcolormesh(ds_output['x'][::decimate_by], ds_output['y'][::decimate_by], ds_output[variable_to_plot][::decimate_by, ::decimate_by],\n",
    "                      transform=projection, rasterized=True)\n",
    "\n",
    "        fig.colorbar(pcm, ax=ax, label=variable_to_plot)\n",
    "\n",
    "        ax.coastlines(resolution='10m', color='black', linewidth=0.5)\n",
    "    \n",
    "    except Exception as e:\n",
    "        print(f\"Count not plot variable {variable_to_plot}\")\n",
    "        continue"
   ]
  },
  {
   "cell_type": "code",
   "execution_count": 24,
   "metadata": {},
   "outputs": [],
   "source": [
    "ds_output.to_netcdf(output_nc_path)"
   ]
  }
 ],
 "metadata": {
  "kernelspec": {
   "display_name": "rssnr",
   "language": "python",
   "name": "python3"
  },
  "language_info": {
   "codemirror_mode": {
    "name": "ipython",
    "version": 3
   },
   "file_extension": ".py",
   "mimetype": "text/x-python",
   "name": "python",
   "nbconvert_exporter": "python",
   "pygments_lexer": "ipython3",
   "version": "3.10.16"
  }
 },
 "nbformat": 4,
 "nbformat_minor": 2
}
